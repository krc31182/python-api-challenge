{
 "cells": [
  {
   "cell_type": "markdown",
   "metadata": {},
   "source": [
    "Weather PY\n",
    "\n",
    "=There is a strong correlation of higher temperatures as you get closer to the equator\n",
    "-There is not a strong correlation of wind speed and latitude\n",
    "-There does not apppear to be a correlation between cloudiness and a cities location"
   ]
  },
  {
   "cell_type": "markdown",
   "metadata": {},
   "source": [
    "-import dependancies and api key"
   ]
  },
  {
   "cell_type": "code",
   "execution_count": 31,
   "metadata": {
    "scrolled": true
   },
   "outputs": [],
   "source": [
    "\n",
    "import matplotlib.pyplot as plt\n",
    "import pandas as pd\n",
    "import numpy as np\n",
    "\n",
    "from scipy.stats import linregress\n",
    "from pprint import pprint\n",
    "\n",
    "from config import weather_api_key\n",
    "from citipy import citipy\n",
    "import requests\n"
   ]
  },
  {
   "cell_type": "markdown",
   "metadata": {},
   "source": [
    "-Add range of search for cities and output location"
   ]
  },
  {
   "cell_type": "code",
   "execution_count": 4,
   "metadata": {},
   "outputs": [],
   "source": [
    "output_data_file = \"output_data/cities.csv\"\n",
    "\n",
    "\n",
    "lat_range = (-90, 90)\n",
    "lng_range = (-180, 180)"
   ]
  },
  {
   "cell_type": "markdown",
   "metadata": {},
   "source": [
    "## Generate Cities List"
   ]
  },
  {
   "cell_type": "markdown",
   "metadata": {},
   "source": [
    "-create lists to hold location and city -set up random search and identify nearest city to lat-lngs\n",
    "-print the length of the list to see how many cities"
   ]
  },
  {
   "cell_type": "code",
   "execution_count": 5,
   "metadata": {},
   "outputs": [
    {
     "data": {
      "text/plain": [
       "620"
      ]
     },
     "execution_count": 5,
     "metadata": {},
     "output_type": "execute_result"
    }
   ],
   "source": [
    "\n",
    "lat_lngs = []\n",
    "cities = []\n",
    "\n",
    "\n",
    "lats = np.random.uniform(lat_range[0], lat_range[1], size=1500)\n",
    "lngs = np.random.uniform(lng_range[0], lng_range[1], size=1500)\n",
    "lat_lngs = zip(lats, lngs)\n",
    "\n",
    "\n",
    "for lat_lng in lat_lngs:\n",
    "    city = citipy.nearest_city(lat_lng[0], lat_lng[1]).city_name\n",
    "    \n",
    "\n",
    "    if city not in cities:\n",
    "        cities.append(city)\n",
    "\n",
    "\n",
    "len(cities)"
   ]
  },
  {
   "cell_type": "markdown",
   "metadata": {},
   "source": [
    "### Perform API Calls\n",
    "* Perform a weather check on each city using a series of successive API calls.\n",
    "* Include a print log of each city as it'sbeing processed (with the city number and city name).\n"
   ]
  },
  {
   "cell_type": "markdown",
   "metadata": {},
   "source": [
    "-Create empty lists to hold data"
   ]
  },
  {
   "cell_type": "code",
   "execution_count": 6,
   "metadata": {},
   "outputs": [],
   "source": [
    "city_name=[]\n",
    "lat=[]\n",
    "lng=[]\n",
    "max_temp=[]\n",
    "humidity=[]\n",
    "clouds=[]\n",
    "wind_speed=[]\n",
    "country=[]\n",
    "date=[]\n",
    "\n",
    "record_counter=1\n",
    "set_counter=1\n"
   ]
  },
  {
   "cell_type": "markdown",
   "metadata": {},
   "source": [
    "-base URL and convert to imperial"
   ]
  },
  {
   "cell_type": "code",
   "execution_count": 7,
   "metadata": {},
   "outputs": [],
   "source": [
    "base_url = \"http://api.openweathermap.org/data/2.5/weather?\"\n",
    "units = \"imperial\""
   ]
  },
  {
   "cell_type": "markdown",
   "metadata": {},
   "source": [
    "-FOR each city name in list try the following"
   ]
  },
  {
   "cell_type": "code",
   "execution_count": 8,
   "metadata": {},
   "outputs": [
    {
     "name": "stdout",
     "output_type": "stream",
     "text": [
      "City not found. jabiru...\n",
      "City not found. tsihombe...\n",
      "City not found. nizhneyansk...\n",
      "City not found. mocambique...\n",
      "City not found. mys shmidta...\n",
      "City not found. belushya guba...\n",
      "City not found. vaitupu...\n",
      "City not found. samusu...\n",
      "City not found. taolanaro...\n",
      "City not found. sofiysk...\n",
      "City not found. illoqqortoormiut...\n",
      "City not found. labutta...\n",
      "City not found. barentsburg...\n",
      "City not found. tumannyy...\n",
      "City not found. blonduos...\n",
      "City not found. sentyabrskiy...\n",
      "City not found. ngukurr...\n",
      "City not found. amderma...\n",
      "City not found. karaul...\n",
      "City not found. tawkar...\n",
      "City not found. guajara-mirim...\n",
      "City not found. grand river south east...\n",
      "City not found. dzhusaly...\n",
      "City not found. mahaicony...\n",
      "City not found. karamay...\n",
      "City not found. makung...\n",
      "City not found. thilogne...\n",
      "City not found. andevoranto...\n",
      "City not found. ruatoria...\n",
      "City not found. fevralsk...\n",
      "City not found. bur gabo...\n",
      "City not found. bajo baudo...\n",
      "City not found. gorno-chuyskiy...\n",
      "City not found. alotau...\n",
      "City not found. lawan kuda baharu...\n",
      "City not found. tabiauea...\n",
      "City not found. taburi...\n",
      "City not found. liniere...\n",
      "City not found. suzu...\n",
      "City not found. qafsah...\n",
      "City not found. paradwip...\n",
      "City not found. palabuhanratu...\n",
      "City not found. bargal...\n",
      "City not found. tingrela...\n",
      "City not found. ha...\n",
      "City not found. yunjinghong...\n",
      "City not found. el balyana...\n",
      "City not found. sahrak...\n",
      "City not found. play cu...\n",
      "City not found. nguiu...\n",
      "City not found. attawapiskat...\n",
      "City not found. chikoy...\n",
      "City not found. kracheh...\n",
      "City not found. xadani...\n",
      "City not found. karamea...\n",
      "City not found. karkaralinsk...\n",
      "City not found. sidi qasim...\n",
      "City not found. kobojango...\n",
      "City not found. halalo...\n",
      "City not found. parras...\n",
      "City not found. nizhneshilovka...\n",
      "City not found. warqla...\n",
      "City not found. marcona...\n",
      "City not found. gurgan...\n",
      "City not found. cheuskiny...\n",
      "City not found. shaartuz...\n",
      "City not found. chagda...\n",
      "Data Retrieval Complete\n"
     ]
    }
   ],
   "source": [
    "for city in cities:\n",
    "    try:\n",
    "        query_url = f\"{base_url}appid={weather_api_key}&units={units}&q={city}\"\n",
    "        response = requests.get(query_url)\n",
    "        weather_json = response.json()\n",
    "        city_name.append(weather_json[\"name\"])\n",
    "        clouds.append(weather_json[\"clouds\"][\"all\"])\n",
    "        country.append(weather_json[\"sys\"][\"country\"])\n",
    "        date.append(weather_json[\"dt\"])\n",
    "        humidity.append(weather_json[\"main\"][\"humidity\"])\n",
    "        lat.append(weather_json[\"coord\"][\"lat\"])\n",
    "        lng.append(weather_json[\"coord\"][\"lon\"])\n",
    "        max_temp.append(weather_json['main']['temp_max'])\n",
    "        wind_speed.append(weather_json[\"wind\"][\"speed\"])\n",
    "\n",
    "        print(f\"Processing Record {record_counter} of set {set_counter} | {city}\") \n",
    "    \n",
    "    except KeyError:\n",
    "        print(f\"City not found. {city}...\")\n",
    "    \n",
    "    record_counter = record_counter + 1\n",
    "    if record_counter == 51:\n",
    "        record_counter = 1\n",
    "        set_counter = set_counter + 1\n",
    "        \n",
    "\n",
    "\n"
   ]
  },
  {
   "cell_type": "markdown",
   "metadata": {},
   "source": [
    "### Convert Raw Data to DataFrame\n",
    "* Export the city data into a .csv.\n",
    "* Display the DataFrame"
   ]
  },
  {
   "cell_type": "code",
   "execution_count": null,
   "metadata": {},
   "outputs": [],
   "source": []
  },
  {
   "cell_type": "code",
   "execution_count": 9,
   "metadata": {},
   "outputs": [
    {
     "data": {
      "text/html": [
       "<div>\n",
       "<style scoped>\n",
       "    .dataframe tbody tr th:only-of-type {\n",
       "        vertical-align: middle;\n",
       "    }\n",
       "\n",
       "    .dataframe tbody tr th {\n",
       "        vertical-align: top;\n",
       "    }\n",
       "\n",
       "    .dataframe thead th {\n",
       "        text-align: right;\n",
       "    }\n",
       "</style>\n",
       "<table border=\"1\" class=\"dataframe\">\n",
       "  <thead>\n",
       "    <tr style=\"text-align: right;\">\n",
       "      <th></th>\n",
       "      <th>City</th>\n",
       "      <th>Latitude</th>\n",
       "      <th>Longitude</th>\n",
       "      <th>Max Temp</th>\n",
       "      <th>Humidity</th>\n",
       "      <th>Cloudiness</th>\n",
       "      <th>Wind Speed</th>\n",
       "      <th>Country</th>\n",
       "      <th>Date</th>\n",
       "    </tr>\n",
       "  </thead>\n",
       "  <tbody>\n",
       "    <tr>\n",
       "      <th>0</th>\n",
       "      <td>Coahuayana Viejo</td>\n",
       "      <td>18.7333</td>\n",
       "      <td>-103.6833</td>\n",
       "      <td>88.95</td>\n",
       "      <td>61</td>\n",
       "      <td>95</td>\n",
       "      <td>2.62</td>\n",
       "      <td>MX</td>\n",
       "      <td>1659547429</td>\n",
       "    </tr>\n",
       "    <tr>\n",
       "      <th>1</th>\n",
       "      <td>Vila Velha</td>\n",
       "      <td>-20.3297</td>\n",
       "      <td>-40.2925</td>\n",
       "      <td>78.75</td>\n",
       "      <td>85</td>\n",
       "      <td>40</td>\n",
       "      <td>13.80</td>\n",
       "      <td>BR</td>\n",
       "      <td>1659547579</td>\n",
       "    </tr>\n",
       "    <tr>\n",
       "      <th>2</th>\n",
       "      <td>Hobart</td>\n",
       "      <td>-42.8794</td>\n",
       "      <td>147.3294</td>\n",
       "      <td>49.26</td>\n",
       "      <td>88</td>\n",
       "      <td>75</td>\n",
       "      <td>4.61</td>\n",
       "      <td>AU</td>\n",
       "      <td>1659547470</td>\n",
       "    </tr>\n",
       "    <tr>\n",
       "      <th>3</th>\n",
       "      <td>Teguise</td>\n",
       "      <td>29.0605</td>\n",
       "      <td>-13.5640</td>\n",
       "      <td>77.22</td>\n",
       "      <td>65</td>\n",
       "      <td>20</td>\n",
       "      <td>21.85</td>\n",
       "      <td>ES</td>\n",
       "      <td>1659547644</td>\n",
       "    </tr>\n",
       "    <tr>\n",
       "      <th>4</th>\n",
       "      <td>Avarua</td>\n",
       "      <td>-21.2078</td>\n",
       "      <td>-159.7750</td>\n",
       "      <td>71.65</td>\n",
       "      <td>56</td>\n",
       "      <td>40</td>\n",
       "      <td>8.05</td>\n",
       "      <td>CK</td>\n",
       "      <td>1659547644</td>\n",
       "    </tr>\n",
       "    <tr>\n",
       "      <th>...</th>\n",
       "      <td>...</td>\n",
       "      <td>...</td>\n",
       "      <td>...</td>\n",
       "      <td>...</td>\n",
       "      <td>...</td>\n",
       "      <td>...</td>\n",
       "      <td>...</td>\n",
       "      <td>...</td>\n",
       "      <td>...</td>\n",
       "    </tr>\n",
       "    <tr>\n",
       "      <th>548</th>\n",
       "      <td>Mersing</td>\n",
       "      <td>2.4312</td>\n",
       "      <td>103.8405</td>\n",
       "      <td>75.11</td>\n",
       "      <td>94</td>\n",
       "      <td>40</td>\n",
       "      <td>2.30</td>\n",
       "      <td>MY</td>\n",
       "      <td>1659547781</td>\n",
       "    </tr>\n",
       "    <tr>\n",
       "      <th>549</th>\n",
       "      <td>Bragança</td>\n",
       "      <td>-1.0536</td>\n",
       "      <td>-46.7656</td>\n",
       "      <td>85.98</td>\n",
       "      <td>59</td>\n",
       "      <td>77</td>\n",
       "      <td>7.18</td>\n",
       "      <td>BR</td>\n",
       "      <td>1659547686</td>\n",
       "    </tr>\n",
       "    <tr>\n",
       "      <th>550</th>\n",
       "      <td>Farafangana</td>\n",
       "      <td>-22.8167</td>\n",
       "      <td>47.8333</td>\n",
       "      <td>68.16</td>\n",
       "      <td>75</td>\n",
       "      <td>100</td>\n",
       "      <td>6.49</td>\n",
       "      <td>MG</td>\n",
       "      <td>1659547781</td>\n",
       "    </tr>\n",
       "    <tr>\n",
       "      <th>551</th>\n",
       "      <td>Tabou</td>\n",
       "      <td>4.4230</td>\n",
       "      <td>-7.3528</td>\n",
       "      <td>76.42</td>\n",
       "      <td>75</td>\n",
       "      <td>97</td>\n",
       "      <td>8.75</td>\n",
       "      <td>CI</td>\n",
       "      <td>1659547651</td>\n",
       "    </tr>\n",
       "    <tr>\n",
       "      <th>552</th>\n",
       "      <td>Aragarças</td>\n",
       "      <td>-15.8975</td>\n",
       "      <td>-52.2508</td>\n",
       "      <td>95.65</td>\n",
       "      <td>28</td>\n",
       "      <td>0</td>\n",
       "      <td>10.36</td>\n",
       "      <td>BR</td>\n",
       "      <td>1659547782</td>\n",
       "    </tr>\n",
       "  </tbody>\n",
       "</table>\n",
       "<p>552 rows × 9 columns</p>\n",
       "</div>"
      ],
      "text/plain": [
       "                 City  Latitude  Longitude  Max Temp  Humidity  Cloudiness  \\\n",
       "0    Coahuayana Viejo   18.7333  -103.6833     88.95        61          95   \n",
       "1          Vila Velha  -20.3297   -40.2925     78.75        85          40   \n",
       "2              Hobart  -42.8794   147.3294     49.26        88          75   \n",
       "3             Teguise   29.0605   -13.5640     77.22        65          20   \n",
       "4              Avarua  -21.2078  -159.7750     71.65        56          40   \n",
       "..                ...       ...        ...       ...       ...         ...   \n",
       "548           Mersing    2.4312   103.8405     75.11        94          40   \n",
       "549          Bragança   -1.0536   -46.7656     85.98        59          77   \n",
       "550       Farafangana  -22.8167    47.8333     68.16        75         100   \n",
       "551             Tabou    4.4230    -7.3528     76.42        75          97   \n",
       "552         Aragarças  -15.8975   -52.2508     95.65        28           0   \n",
       "\n",
       "     Wind Speed Country        Date  \n",
       "0          2.62      MX  1659547429  \n",
       "1         13.80      BR  1659547579  \n",
       "2          4.61      AU  1659547470  \n",
       "3         21.85      ES  1659547644  \n",
       "4          8.05      CK  1659547644  \n",
       "..          ...     ...         ...  \n",
       "548        2.30      MY  1659547781  \n",
       "549        7.18      BR  1659547686  \n",
       "550        6.49      MG  1659547781  \n",
       "551        8.75      CI  1659547651  \n",
       "552       10.36      BR  1659547782  \n",
       "\n",
       "[552 rows x 9 columns]"
      ]
     },
     "execution_count": 9,
     "metadata": {},
     "output_type": "execute_result"
    }
   ],
   "source": [
    "weather_dictionary={\n",
    "    \"City\": city_name,\n",
    "    \"Latitude\": lat,\n",
    "    \"Longitude\": lng,\n",
    "    \"Max Temp\": max_temp,\n",
    "    \"Humidity\": humidity,\n",
    "    \"Cloudiness\": clouds,\n",
    "    \"Wind Speed\":wind_speed,\n",
    "    \"Country\": country,\n",
    "    \"Date\": date\n",
    "}\n",
    "                        \n",
    "weather_df = pd.DataFrame(weather_dictionary)\n",
    "weather_df.drop_duplicates(\"City\")"
   ]
  },
  {
   "cell_type": "code",
   "execution_count": 14,
   "metadata": {},
   "outputs": [
    {
     "data": {
      "text/html": [
       "<div>\n",
       "<style scoped>\n",
       "    .dataframe tbody tr th:only-of-type {\n",
       "        vertical-align: middle;\n",
       "    }\n",
       "\n",
       "    .dataframe tbody tr th {\n",
       "        vertical-align: top;\n",
       "    }\n",
       "\n",
       "    .dataframe thead th {\n",
       "        text-align: right;\n",
       "    }\n",
       "</style>\n",
       "<table border=\"1\" class=\"dataframe\">\n",
       "  <thead>\n",
       "    <tr style=\"text-align: right;\">\n",
       "      <th></th>\n",
       "      <th>City</th>\n",
       "      <th>Latitude</th>\n",
       "      <th>Longitude</th>\n",
       "      <th>Max Temp</th>\n",
       "      <th>Humidity</th>\n",
       "      <th>Cloudiness</th>\n",
       "      <th>Wind Speed</th>\n",
       "      <th>Country</th>\n",
       "      <th>Date</th>\n",
       "    </tr>\n",
       "  </thead>\n",
       "  <tbody>\n",
       "    <tr>\n",
       "      <th>0</th>\n",
       "      <td>Coahuayana Viejo</td>\n",
       "      <td>18.7333</td>\n",
       "      <td>-103.6833</td>\n",
       "      <td>88.95</td>\n",
       "      <td>61</td>\n",
       "      <td>95</td>\n",
       "      <td>2.62</td>\n",
       "      <td>MX</td>\n",
       "      <td>1659547429</td>\n",
       "    </tr>\n",
       "    <tr>\n",
       "      <th>1</th>\n",
       "      <td>Vila Velha</td>\n",
       "      <td>-20.3297</td>\n",
       "      <td>-40.2925</td>\n",
       "      <td>78.75</td>\n",
       "      <td>85</td>\n",
       "      <td>40</td>\n",
       "      <td>13.80</td>\n",
       "      <td>BR</td>\n",
       "      <td>1659547579</td>\n",
       "    </tr>\n",
       "    <tr>\n",
       "      <th>2</th>\n",
       "      <td>Hobart</td>\n",
       "      <td>-42.8794</td>\n",
       "      <td>147.3294</td>\n",
       "      <td>49.26</td>\n",
       "      <td>88</td>\n",
       "      <td>75</td>\n",
       "      <td>4.61</td>\n",
       "      <td>AU</td>\n",
       "      <td>1659547470</td>\n",
       "    </tr>\n",
       "    <tr>\n",
       "      <th>3</th>\n",
       "      <td>Teguise</td>\n",
       "      <td>29.0605</td>\n",
       "      <td>-13.5640</td>\n",
       "      <td>77.22</td>\n",
       "      <td>65</td>\n",
       "      <td>20</td>\n",
       "      <td>21.85</td>\n",
       "      <td>ES</td>\n",
       "      <td>1659547644</td>\n",
       "    </tr>\n",
       "    <tr>\n",
       "      <th>4</th>\n",
       "      <td>Avarua</td>\n",
       "      <td>-21.2078</td>\n",
       "      <td>-159.7750</td>\n",
       "      <td>71.65</td>\n",
       "      <td>56</td>\n",
       "      <td>40</td>\n",
       "      <td>8.05</td>\n",
       "      <td>CK</td>\n",
       "      <td>1659547644</td>\n",
       "    </tr>\n",
       "    <tr>\n",
       "      <th>5</th>\n",
       "      <td>Isangel</td>\n",
       "      <td>-19.5500</td>\n",
       "      <td>169.2667</td>\n",
       "      <td>74.91</td>\n",
       "      <td>88</td>\n",
       "      <td>0</td>\n",
       "      <td>5.59</td>\n",
       "      <td>VU</td>\n",
       "      <td>1659547645</td>\n",
       "    </tr>\n",
       "    <tr>\n",
       "      <th>6</th>\n",
       "      <td>Mataura</td>\n",
       "      <td>-46.1927</td>\n",
       "      <td>168.8643</td>\n",
       "      <td>44.47</td>\n",
       "      <td>89</td>\n",
       "      <td>100</td>\n",
       "      <td>3.11</td>\n",
       "      <td>NZ</td>\n",
       "      <td>1659547645</td>\n",
       "    </tr>\n",
       "    <tr>\n",
       "      <th>7</th>\n",
       "      <td>Khatanga</td>\n",
       "      <td>71.9667</td>\n",
       "      <td>102.5000</td>\n",
       "      <td>49.60</td>\n",
       "      <td>66</td>\n",
       "      <td>92</td>\n",
       "      <td>6.98</td>\n",
       "      <td>RU</td>\n",
       "      <td>1659547645</td>\n",
       "    </tr>\n",
       "    <tr>\n",
       "      <th>8</th>\n",
       "      <td>Albany</td>\n",
       "      <td>42.6001</td>\n",
       "      <td>-73.9662</td>\n",
       "      <td>86.65</td>\n",
       "      <td>48</td>\n",
       "      <td>2</td>\n",
       "      <td>1.61</td>\n",
       "      <td>US</td>\n",
       "      <td>1659546842</td>\n",
       "    </tr>\n",
       "    <tr>\n",
       "      <th>9</th>\n",
       "      <td>Lavrentiya</td>\n",
       "      <td>65.5833</td>\n",
       "      <td>-171.0000</td>\n",
       "      <td>48.61</td>\n",
       "      <td>78</td>\n",
       "      <td>3</td>\n",
       "      <td>4.88</td>\n",
       "      <td>RU</td>\n",
       "      <td>1659547604</td>\n",
       "    </tr>\n",
       "    <tr>\n",
       "      <th>10</th>\n",
       "      <td>Kielce</td>\n",
       "      <td>50.8703</td>\n",
       "      <td>20.6275</td>\n",
       "      <td>78.80</td>\n",
       "      <td>1</td>\n",
       "      <td>95</td>\n",
       "      <td>3.51</td>\n",
       "      <td>PL</td>\n",
       "      <td>1659547646</td>\n",
       "    </tr>\n",
       "    <tr>\n",
       "      <th>11</th>\n",
       "      <td>Punta Arenas</td>\n",
       "      <td>-53.1500</td>\n",
       "      <td>-70.9167</td>\n",
       "      <td>39.31</td>\n",
       "      <td>87</td>\n",
       "      <td>75</td>\n",
       "      <td>11.50</td>\n",
       "      <td>CL</td>\n",
       "      <td>1659547529</td>\n",
       "    </tr>\n",
       "    <tr>\n",
       "      <th>12</th>\n",
       "      <td>Lander</td>\n",
       "      <td>42.8330</td>\n",
       "      <td>-108.7307</td>\n",
       "      <td>80.17</td>\n",
       "      <td>36</td>\n",
       "      <td>0</td>\n",
       "      <td>5.75</td>\n",
       "      <td>US</td>\n",
       "      <td>1659547646</td>\n",
       "    </tr>\n",
       "    <tr>\n",
       "      <th>13</th>\n",
       "      <td>Hermanus</td>\n",
       "      <td>-34.4187</td>\n",
       "      <td>19.2345</td>\n",
       "      <td>54.81</td>\n",
       "      <td>84</td>\n",
       "      <td>7</td>\n",
       "      <td>14.79</td>\n",
       "      <td>ZA</td>\n",
       "      <td>1659547431</td>\n",
       "    </tr>\n",
       "    <tr>\n",
       "      <th>14</th>\n",
       "      <td>Hithadhoo</td>\n",
       "      <td>-0.6000</td>\n",
       "      <td>73.0833</td>\n",
       "      <td>81.46</td>\n",
       "      <td>72</td>\n",
       "      <td>43</td>\n",
       "      <td>16.08</td>\n",
       "      <td>MV</td>\n",
       "      <td>1659547647</td>\n",
       "    </tr>\n",
       "    <tr>\n",
       "      <th>15</th>\n",
       "      <td>Norman Wells</td>\n",
       "      <td>65.2820</td>\n",
       "      <td>-126.8329</td>\n",
       "      <td>57.24</td>\n",
       "      <td>88</td>\n",
       "      <td>75</td>\n",
       "      <td>19.57</td>\n",
       "      <td>CA</td>\n",
       "      <td>1659547647</td>\n",
       "    </tr>\n",
       "    <tr>\n",
       "      <th>16</th>\n",
       "      <td>Inuvik</td>\n",
       "      <td>68.3499</td>\n",
       "      <td>-133.7218</td>\n",
       "      <td>49.06</td>\n",
       "      <td>81</td>\n",
       "      <td>75</td>\n",
       "      <td>2.30</td>\n",
       "      <td>CA</td>\n",
       "      <td>1659547647</td>\n",
       "    </tr>\n",
       "    <tr>\n",
       "      <th>17</th>\n",
       "      <td>Rikitea</td>\n",
       "      <td>-23.1203</td>\n",
       "      <td>-134.9692</td>\n",
       "      <td>72.28</td>\n",
       "      <td>72</td>\n",
       "      <td>80</td>\n",
       "      <td>15.93</td>\n",
       "      <td>PF</td>\n",
       "      <td>1659547392</td>\n",
       "    </tr>\n",
       "    <tr>\n",
       "      <th>18</th>\n",
       "      <td>Vaini</td>\n",
       "      <td>-21.2000</td>\n",
       "      <td>-175.2000</td>\n",
       "      <td>75.36</td>\n",
       "      <td>94</td>\n",
       "      <td>40</td>\n",
       "      <td>11.50</td>\n",
       "      <td>TO</td>\n",
       "      <td>1659547464</td>\n",
       "    </tr>\n",
       "    <tr>\n",
       "      <th>19</th>\n",
       "      <td>Antalaha</td>\n",
       "      <td>-14.9003</td>\n",
       "      <td>50.2788</td>\n",
       "      <td>67.46</td>\n",
       "      <td>85</td>\n",
       "      <td>14</td>\n",
       "      <td>7.83</td>\n",
       "      <td>MG</td>\n",
       "      <td>1659547494</td>\n",
       "    </tr>\n",
       "    <tr>\n",
       "      <th>20</th>\n",
       "      <td>Saskylakh</td>\n",
       "      <td>71.9167</td>\n",
       "      <td>114.0833</td>\n",
       "      <td>44.02</td>\n",
       "      <td>69</td>\n",
       "      <td>100</td>\n",
       "      <td>8.77</td>\n",
       "      <td>RU</td>\n",
       "      <td>1659547464</td>\n",
       "    </tr>\n",
       "    <tr>\n",
       "      <th>21</th>\n",
       "      <td>Cap Malheureux</td>\n",
       "      <td>-19.9842</td>\n",
       "      <td>57.6142</td>\n",
       "      <td>67.46</td>\n",
       "      <td>73</td>\n",
       "      <td>25</td>\n",
       "      <td>5.01</td>\n",
       "      <td>MU</td>\n",
       "      <td>1659547648</td>\n",
       "    </tr>\n",
       "    <tr>\n",
       "      <th>22</th>\n",
       "      <td>Lebu</td>\n",
       "      <td>-37.6167</td>\n",
       "      <td>-73.6500</td>\n",
       "      <td>51.28</td>\n",
       "      <td>73</td>\n",
       "      <td>7</td>\n",
       "      <td>3.78</td>\n",
       "      <td>CL</td>\n",
       "      <td>1659547648</td>\n",
       "    </tr>\n",
       "    <tr>\n",
       "      <th>23</th>\n",
       "      <td>Khorramabad</td>\n",
       "      <td>33.4878</td>\n",
       "      <td>48.3558</td>\n",
       "      <td>94.62</td>\n",
       "      <td>20</td>\n",
       "      <td>20</td>\n",
       "      <td>9.22</td>\n",
       "      <td>IR</td>\n",
       "      <td>1659547648</td>\n",
       "    </tr>\n",
       "    <tr>\n",
       "      <th>24</th>\n",
       "      <td>Cabo San Lucas</td>\n",
       "      <td>22.8909</td>\n",
       "      <td>-109.9124</td>\n",
       "      <td>92.50</td>\n",
       "      <td>55</td>\n",
       "      <td>0</td>\n",
       "      <td>10.36</td>\n",
       "      <td>MX</td>\n",
       "      <td>1659547407</td>\n",
       "    </tr>\n",
       "    <tr>\n",
       "      <th>25</th>\n",
       "      <td>Andenes</td>\n",
       "      <td>69.3143</td>\n",
       "      <td>16.1194</td>\n",
       "      <td>58.98</td>\n",
       "      <td>82</td>\n",
       "      <td>0</td>\n",
       "      <td>3.44</td>\n",
       "      <td>NO</td>\n",
       "      <td>1659547649</td>\n",
       "    </tr>\n",
       "    <tr>\n",
       "      <th>26</th>\n",
       "      <td>Ploemeur</td>\n",
       "      <td>47.7333</td>\n",
       "      <td>-3.4333</td>\n",
       "      <td>78.62</td>\n",
       "      <td>61</td>\n",
       "      <td>0</td>\n",
       "      <td>14.97</td>\n",
       "      <td>FR</td>\n",
       "      <td>1659547649</td>\n",
       "    </tr>\n",
       "    <tr>\n",
       "      <th>27</th>\n",
       "      <td>Jamestown</td>\n",
       "      <td>42.0970</td>\n",
       "      <td>-79.2353</td>\n",
       "      <td>84.02</td>\n",
       "      <td>52</td>\n",
       "      <td>0</td>\n",
       "      <td>9.22</td>\n",
       "      <td>US</td>\n",
       "      <td>1659547434</td>\n",
       "    </tr>\n",
       "    <tr>\n",
       "      <th>28</th>\n",
       "      <td>Marawi</td>\n",
       "      <td>7.9986</td>\n",
       "      <td>124.2928</td>\n",
       "      <td>70.05</td>\n",
       "      <td>96</td>\n",
       "      <td>100</td>\n",
       "      <td>2.98</td>\n",
       "      <td>PH</td>\n",
       "      <td>1659547649</td>\n",
       "    </tr>\n",
       "    <tr>\n",
       "      <th>29</th>\n",
       "      <td>Port Alfred</td>\n",
       "      <td>-33.5906</td>\n",
       "      <td>26.8910</td>\n",
       "      <td>63.18</td>\n",
       "      <td>73</td>\n",
       "      <td>100</td>\n",
       "      <td>3.74</td>\n",
       "      <td>ZA</td>\n",
       "      <td>1659547650</td>\n",
       "    </tr>\n",
       "    <tr>\n",
       "      <th>30</th>\n",
       "      <td>Clyde River</td>\n",
       "      <td>70.4692</td>\n",
       "      <td>-68.5914</td>\n",
       "      <td>39.43</td>\n",
       "      <td>93</td>\n",
       "      <td>100</td>\n",
       "      <td>4.61</td>\n",
       "      <td>CA</td>\n",
       "      <td>1659547650</td>\n",
       "    </tr>\n",
       "    <tr>\n",
       "      <th>31</th>\n",
       "      <td>Saint-François</td>\n",
       "      <td>46.4154</td>\n",
       "      <td>3.9054</td>\n",
       "      <td>96.24</td>\n",
       "      <td>21</td>\n",
       "      <td>0</td>\n",
       "      <td>4.61</td>\n",
       "      <td>FR</td>\n",
       "      <td>1659547650</td>\n",
       "    </tr>\n",
       "    <tr>\n",
       "      <th>32</th>\n",
       "      <td>Praia</td>\n",
       "      <td>14.9215</td>\n",
       "      <td>-23.5087</td>\n",
       "      <td>84.74</td>\n",
       "      <td>65</td>\n",
       "      <td>40</td>\n",
       "      <td>16.11</td>\n",
       "      <td>CV</td>\n",
       "      <td>1659547428</td>\n",
       "    </tr>\n",
       "    <tr>\n",
       "      <th>33</th>\n",
       "      <td>Apatou</td>\n",
       "      <td>5.1550</td>\n",
       "      <td>-54.3472</td>\n",
       "      <td>90.32</td>\n",
       "      <td>52</td>\n",
       "      <td>86</td>\n",
       "      <td>4.52</td>\n",
       "      <td>GF</td>\n",
       "      <td>1659547651</td>\n",
       "    </tr>\n",
       "    <tr>\n",
       "      <th>34</th>\n",
       "      <td>Port Lincoln</td>\n",
       "      <td>-34.7333</td>\n",
       "      <td>135.8667</td>\n",
       "      <td>55.90</td>\n",
       "      <td>66</td>\n",
       "      <td>0</td>\n",
       "      <td>20.58</td>\n",
       "      <td>AU</td>\n",
       "      <td>1659547651</td>\n",
       "    </tr>\n",
       "    <tr>\n",
       "      <th>35</th>\n",
       "      <td>Southbridge</td>\n",
       "      <td>42.0751</td>\n",
       "      <td>-72.0334</td>\n",
       "      <td>89.29</td>\n",
       "      <td>61</td>\n",
       "      <td>1</td>\n",
       "      <td>1.01</td>\n",
       "      <td>US</td>\n",
       "      <td>1659547547</td>\n",
       "    </tr>\n",
       "    <tr>\n",
       "      <th>36</th>\n",
       "      <td>Madikeri</td>\n",
       "      <td>12.4167</td>\n",
       "      <td>75.7333</td>\n",
       "      <td>65.84</td>\n",
       "      <td>99</td>\n",
       "      <td>100</td>\n",
       "      <td>2.01</td>\n",
       "      <td>IN</td>\n",
       "      <td>1659547651</td>\n",
       "    </tr>\n",
       "    <tr>\n",
       "      <th>37</th>\n",
       "      <td>Nikolskoye</td>\n",
       "      <td>59.7035</td>\n",
       "      <td>30.7861</td>\n",
       "      <td>73.78</td>\n",
       "      <td>70</td>\n",
       "      <td>60</td>\n",
       "      <td>2.46</td>\n",
       "      <td>RU</td>\n",
       "      <td>1659547466</td>\n",
       "    </tr>\n",
       "    <tr>\n",
       "      <th>38</th>\n",
       "      <td>Ballina</td>\n",
       "      <td>-28.8667</td>\n",
       "      <td>153.5667</td>\n",
       "      <td>58.01</td>\n",
       "      <td>99</td>\n",
       "      <td>28</td>\n",
       "      <td>6.71</td>\n",
       "      <td>AU</td>\n",
       "      <td>1659547599</td>\n",
       "    </tr>\n",
       "    <tr>\n",
       "      <th>39</th>\n",
       "      <td>Gamba</td>\n",
       "      <td>-2.6500</td>\n",
       "      <td>10.0000</td>\n",
       "      <td>71.80</td>\n",
       "      <td>83</td>\n",
       "      <td>46</td>\n",
       "      <td>10.16</td>\n",
       "      <td>GA</td>\n",
       "      <td>1659547652</td>\n",
       "    </tr>\n",
       "    <tr>\n",
       "      <th>40</th>\n",
       "      <td>Busselton</td>\n",
       "      <td>-33.6500</td>\n",
       "      <td>115.3333</td>\n",
       "      <td>53.69</td>\n",
       "      <td>76</td>\n",
       "      <td>87</td>\n",
       "      <td>17.60</td>\n",
       "      <td>AU</td>\n",
       "      <td>1659547652</td>\n",
       "    </tr>\n",
       "    <tr>\n",
       "      <th>41</th>\n",
       "      <td>Stratford</td>\n",
       "      <td>41.1845</td>\n",
       "      <td>-73.1332</td>\n",
       "      <td>89.35</td>\n",
       "      <td>65</td>\n",
       "      <td>0</td>\n",
       "      <td>6.91</td>\n",
       "      <td>US</td>\n",
       "      <td>1659547442</td>\n",
       "    </tr>\n",
       "    <tr>\n",
       "      <th>42</th>\n",
       "      <td>Staraya Akkermanovka</td>\n",
       "      <td>51.2467</td>\n",
       "      <td>58.2391</td>\n",
       "      <td>69.58</td>\n",
       "      <td>49</td>\n",
       "      <td>100</td>\n",
       "      <td>14.18</td>\n",
       "      <td>RU</td>\n",
       "      <td>1659547653</td>\n",
       "    </tr>\n",
       "    <tr>\n",
       "      <th>43</th>\n",
       "      <td>Roald</td>\n",
       "      <td>62.5833</td>\n",
       "      <td>6.1333</td>\n",
       "      <td>66.90</td>\n",
       "      <td>72</td>\n",
       "      <td>75</td>\n",
       "      <td>13.80</td>\n",
       "      <td>NO</td>\n",
       "      <td>1659547653</td>\n",
       "    </tr>\n",
       "    <tr>\n",
       "      <th>44</th>\n",
       "      <td>Souillac</td>\n",
       "      <td>-20.5167</td>\n",
       "      <td>57.5167</td>\n",
       "      <td>70.18</td>\n",
       "      <td>73</td>\n",
       "      <td>75</td>\n",
       "      <td>9.22</td>\n",
       "      <td>MU</td>\n",
       "      <td>1659547443</td>\n",
       "    </tr>\n",
       "    <tr>\n",
       "      <th>45</th>\n",
       "      <td>Iqaluit</td>\n",
       "      <td>63.7506</td>\n",
       "      <td>-68.5145</td>\n",
       "      <td>55.13</td>\n",
       "      <td>58</td>\n",
       "      <td>40</td>\n",
       "      <td>5.75</td>\n",
       "      <td>CA</td>\n",
       "      <td>1659547653</td>\n",
       "    </tr>\n",
       "    <tr>\n",
       "      <th>46</th>\n",
       "      <td>Cherskiy</td>\n",
       "      <td>68.7500</td>\n",
       "      <td>161.3000</td>\n",
       "      <td>42.93</td>\n",
       "      <td>92</td>\n",
       "      <td>100</td>\n",
       "      <td>7.02</td>\n",
       "      <td>RU</td>\n",
       "      <td>1659547653</td>\n",
       "    </tr>\n",
       "    <tr>\n",
       "      <th>47</th>\n",
       "      <td>Bredasdorp</td>\n",
       "      <td>-34.5322</td>\n",
       "      <td>20.0403</td>\n",
       "      <td>51.35</td>\n",
       "      <td>88</td>\n",
       "      <td>13</td>\n",
       "      <td>7.00</td>\n",
       "      <td>ZA</td>\n",
       "      <td>1659547437</td>\n",
       "    </tr>\n",
       "    <tr>\n",
       "      <th>48</th>\n",
       "      <td>Yanam</td>\n",
       "      <td>16.7333</td>\n",
       "      <td>82.2167</td>\n",
       "      <td>78.31</td>\n",
       "      <td>91</td>\n",
       "      <td>100</td>\n",
       "      <td>2.51</td>\n",
       "      <td>IN</td>\n",
       "      <td>1659547654</td>\n",
       "    </tr>\n",
       "    <tr>\n",
       "      <th>49</th>\n",
       "      <td>La Plata</td>\n",
       "      <td>-34.9215</td>\n",
       "      <td>-57.9545</td>\n",
       "      <td>63.03</td>\n",
       "      <td>75</td>\n",
       "      <td>78</td>\n",
       "      <td>9.01</td>\n",
       "      <td>AR</td>\n",
       "      <td>1659547654</td>\n",
       "    </tr>\n",
       "  </tbody>\n",
       "</table>\n",
       "</div>"
      ],
      "text/plain": [
       "                    City  Latitude  Longitude  Max Temp  Humidity  Cloudiness  \\\n",
       "0       Coahuayana Viejo   18.7333  -103.6833     88.95        61          95   \n",
       "1             Vila Velha  -20.3297   -40.2925     78.75        85          40   \n",
       "2                 Hobart  -42.8794   147.3294     49.26        88          75   \n",
       "3                Teguise   29.0605   -13.5640     77.22        65          20   \n",
       "4                 Avarua  -21.2078  -159.7750     71.65        56          40   \n",
       "5                Isangel  -19.5500   169.2667     74.91        88           0   \n",
       "6                Mataura  -46.1927   168.8643     44.47        89         100   \n",
       "7               Khatanga   71.9667   102.5000     49.60        66          92   \n",
       "8                 Albany   42.6001   -73.9662     86.65        48           2   \n",
       "9             Lavrentiya   65.5833  -171.0000     48.61        78           3   \n",
       "10                Kielce   50.8703    20.6275     78.80         1          95   \n",
       "11          Punta Arenas  -53.1500   -70.9167     39.31        87          75   \n",
       "12                Lander   42.8330  -108.7307     80.17        36           0   \n",
       "13              Hermanus  -34.4187    19.2345     54.81        84           7   \n",
       "14             Hithadhoo   -0.6000    73.0833     81.46        72          43   \n",
       "15          Norman Wells   65.2820  -126.8329     57.24        88          75   \n",
       "16                Inuvik   68.3499  -133.7218     49.06        81          75   \n",
       "17               Rikitea  -23.1203  -134.9692     72.28        72          80   \n",
       "18                 Vaini  -21.2000  -175.2000     75.36        94          40   \n",
       "19              Antalaha  -14.9003    50.2788     67.46        85          14   \n",
       "20             Saskylakh   71.9167   114.0833     44.02        69         100   \n",
       "21        Cap Malheureux  -19.9842    57.6142     67.46        73          25   \n",
       "22                  Lebu  -37.6167   -73.6500     51.28        73           7   \n",
       "23           Khorramabad   33.4878    48.3558     94.62        20          20   \n",
       "24        Cabo San Lucas   22.8909  -109.9124     92.50        55           0   \n",
       "25               Andenes   69.3143    16.1194     58.98        82           0   \n",
       "26              Ploemeur   47.7333    -3.4333     78.62        61           0   \n",
       "27             Jamestown   42.0970   -79.2353     84.02        52           0   \n",
       "28                Marawi    7.9986   124.2928     70.05        96         100   \n",
       "29           Port Alfred  -33.5906    26.8910     63.18        73         100   \n",
       "30           Clyde River   70.4692   -68.5914     39.43        93         100   \n",
       "31        Saint-François   46.4154     3.9054     96.24        21           0   \n",
       "32                 Praia   14.9215   -23.5087     84.74        65          40   \n",
       "33                Apatou    5.1550   -54.3472     90.32        52          86   \n",
       "34          Port Lincoln  -34.7333   135.8667     55.90        66           0   \n",
       "35           Southbridge   42.0751   -72.0334     89.29        61           1   \n",
       "36              Madikeri   12.4167    75.7333     65.84        99         100   \n",
       "37            Nikolskoye   59.7035    30.7861     73.78        70          60   \n",
       "38               Ballina  -28.8667   153.5667     58.01        99          28   \n",
       "39                 Gamba   -2.6500    10.0000     71.80        83          46   \n",
       "40             Busselton  -33.6500   115.3333     53.69        76          87   \n",
       "41             Stratford   41.1845   -73.1332     89.35        65           0   \n",
       "42  Staraya Akkermanovka   51.2467    58.2391     69.58        49         100   \n",
       "43                 Roald   62.5833     6.1333     66.90        72          75   \n",
       "44              Souillac  -20.5167    57.5167     70.18        73          75   \n",
       "45               Iqaluit   63.7506   -68.5145     55.13        58          40   \n",
       "46              Cherskiy   68.7500   161.3000     42.93        92         100   \n",
       "47            Bredasdorp  -34.5322    20.0403     51.35        88          13   \n",
       "48                 Yanam   16.7333    82.2167     78.31        91         100   \n",
       "49              La Plata  -34.9215   -57.9545     63.03        75          78   \n",
       "\n",
       "    Wind Speed Country        Date  \n",
       "0         2.62      MX  1659547429  \n",
       "1        13.80      BR  1659547579  \n",
       "2         4.61      AU  1659547470  \n",
       "3        21.85      ES  1659547644  \n",
       "4         8.05      CK  1659547644  \n",
       "5         5.59      VU  1659547645  \n",
       "6         3.11      NZ  1659547645  \n",
       "7         6.98      RU  1659547645  \n",
       "8         1.61      US  1659546842  \n",
       "9         4.88      RU  1659547604  \n",
       "10        3.51      PL  1659547646  \n",
       "11       11.50      CL  1659547529  \n",
       "12        5.75      US  1659547646  \n",
       "13       14.79      ZA  1659547431  \n",
       "14       16.08      MV  1659547647  \n",
       "15       19.57      CA  1659547647  \n",
       "16        2.30      CA  1659547647  \n",
       "17       15.93      PF  1659547392  \n",
       "18       11.50      TO  1659547464  \n",
       "19        7.83      MG  1659547494  \n",
       "20        8.77      RU  1659547464  \n",
       "21        5.01      MU  1659547648  \n",
       "22        3.78      CL  1659547648  \n",
       "23        9.22      IR  1659547648  \n",
       "24       10.36      MX  1659547407  \n",
       "25        3.44      NO  1659547649  \n",
       "26       14.97      FR  1659547649  \n",
       "27        9.22      US  1659547434  \n",
       "28        2.98      PH  1659547649  \n",
       "29        3.74      ZA  1659547650  \n",
       "30        4.61      CA  1659547650  \n",
       "31        4.61      FR  1659547650  \n",
       "32       16.11      CV  1659547428  \n",
       "33        4.52      GF  1659547651  \n",
       "34       20.58      AU  1659547651  \n",
       "35        1.01      US  1659547547  \n",
       "36        2.01      IN  1659547651  \n",
       "37        2.46      RU  1659547466  \n",
       "38        6.71      AU  1659547599  \n",
       "39       10.16      GA  1659547652  \n",
       "40       17.60      AU  1659547652  \n",
       "41        6.91      US  1659547442  \n",
       "42       14.18      RU  1659547653  \n",
       "43       13.80      NO  1659547653  \n",
       "44        9.22      MU  1659547443  \n",
       "45        5.75      CA  1659547653  \n",
       "46        7.02      RU  1659547653  \n",
       "47        7.00      ZA  1659547437  \n",
       "48        2.51      IN  1659547654  \n",
       "49        9.01      AR  1659547654  "
      ]
     },
     "execution_count": 14,
     "metadata": {},
     "output_type": "execute_result"
    }
   ],
   "source": [
    "weather_df.head(50)"
   ]
  },
  {
   "cell_type": "markdown",
   "metadata": {},
   "source": [
    "-Export listof cities to csv"
   ]
  },
  {
   "cell_type": "code",
   "execution_count": 16,
   "metadata": {},
   "outputs": [],
   "source": [
    "weather_df.to_csv(\"C:/Users/krcon/OneDrive/Desktop/Class Master Folder/Challenge6APIs/citiescsv.csv\", index=False, header=True)"
   ]
  },
  {
   "cell_type": "markdown",
   "metadata": {},
   "source": [
    "## Inspect the data and remove the cities where the humidity > 100%.\n",
    "----\n",
    "Skip this step if there are no cities that have humidity > 100%. "
   ]
  },
  {
   "cell_type": "markdown",
   "metadata": {},
   "source": [
    "-Check to see if any humidy is over 100%"
   ]
  },
  {
   "cell_type": "code",
   "execution_count": 17,
   "metadata": {},
   "outputs": [
    {
     "data": {
      "text/html": [
       "<div>\n",
       "<style scoped>\n",
       "    .dataframe tbody tr th:only-of-type {\n",
       "        vertical-align: middle;\n",
       "    }\n",
       "\n",
       "    .dataframe tbody tr th {\n",
       "        vertical-align: top;\n",
       "    }\n",
       "\n",
       "    .dataframe thead th {\n",
       "        text-align: right;\n",
       "    }\n",
       "</style>\n",
       "<table border=\"1\" class=\"dataframe\">\n",
       "  <thead>\n",
       "    <tr style=\"text-align: right;\">\n",
       "      <th></th>\n",
       "      <th>City</th>\n",
       "      <th>Latitude</th>\n",
       "      <th>Longitude</th>\n",
       "      <th>Max Temp</th>\n",
       "      <th>Humidity</th>\n",
       "      <th>Cloudiness</th>\n",
       "      <th>Wind Speed</th>\n",
       "      <th>Country</th>\n",
       "      <th>Date</th>\n",
       "    </tr>\n",
       "  </thead>\n",
       "  <tbody>\n",
       "    <tr>\n",
       "      <th>0</th>\n",
       "      <td>Coahuayana Viejo</td>\n",
       "      <td>18.7333</td>\n",
       "      <td>-103.6833</td>\n",
       "      <td>88.95</td>\n",
       "      <td>61</td>\n",
       "      <td>95</td>\n",
       "      <td>2.62</td>\n",
       "      <td>MX</td>\n",
       "      <td>1659547429</td>\n",
       "    </tr>\n",
       "    <tr>\n",
       "      <th>1</th>\n",
       "      <td>Vila Velha</td>\n",
       "      <td>-20.3297</td>\n",
       "      <td>-40.2925</td>\n",
       "      <td>78.75</td>\n",
       "      <td>85</td>\n",
       "      <td>40</td>\n",
       "      <td>13.80</td>\n",
       "      <td>BR</td>\n",
       "      <td>1659547579</td>\n",
       "    </tr>\n",
       "    <tr>\n",
       "      <th>2</th>\n",
       "      <td>Hobart</td>\n",
       "      <td>-42.8794</td>\n",
       "      <td>147.3294</td>\n",
       "      <td>49.26</td>\n",
       "      <td>88</td>\n",
       "      <td>75</td>\n",
       "      <td>4.61</td>\n",
       "      <td>AU</td>\n",
       "      <td>1659547470</td>\n",
       "    </tr>\n",
       "    <tr>\n",
       "      <th>3</th>\n",
       "      <td>Teguise</td>\n",
       "      <td>29.0605</td>\n",
       "      <td>-13.5640</td>\n",
       "      <td>77.22</td>\n",
       "      <td>65</td>\n",
       "      <td>20</td>\n",
       "      <td>21.85</td>\n",
       "      <td>ES</td>\n",
       "      <td>1659547644</td>\n",
       "    </tr>\n",
       "    <tr>\n",
       "      <th>4</th>\n",
       "      <td>Avarua</td>\n",
       "      <td>-21.2078</td>\n",
       "      <td>-159.7750</td>\n",
       "      <td>71.65</td>\n",
       "      <td>56</td>\n",
       "      <td>40</td>\n",
       "      <td>8.05</td>\n",
       "      <td>CK</td>\n",
       "      <td>1659547644</td>\n",
       "    </tr>\n",
       "  </tbody>\n",
       "</table>\n",
       "</div>"
      ],
      "text/plain": [
       "               City  Latitude  Longitude  Max Temp  Humidity  Cloudiness  \\\n",
       "0  Coahuayana Viejo   18.7333  -103.6833     88.95        61          95   \n",
       "1        Vila Velha  -20.3297   -40.2925     78.75        85          40   \n",
       "2            Hobart  -42.8794   147.3294     49.26        88          75   \n",
       "3           Teguise   29.0605   -13.5640     77.22        65          20   \n",
       "4            Avarua  -21.2078  -159.7750     71.65        56          40   \n",
       "\n",
       "   Wind Speed Country        Date  \n",
       "0        2.62      MX  1659547429  \n",
       "1       13.80      BR  1659547579  \n",
       "2        4.61      AU  1659547470  \n",
       "3       21.85      ES  1659547644  \n",
       "4        8.05      CK  1659547644  "
      ]
     },
     "execution_count": 17,
     "metadata": {},
     "output_type": "execute_result"
    }
   ],
   "source": [
    "weather_data=pd.DataFrame(weather_dictionary)\n",
    "weather_data.head()\n"
   ]
  },
  {
   "cell_type": "markdown",
   "metadata": {},
   "source": [
    "## Plotting the Data\n",
    "* Use proper labeling of the plots using plot titles (including date of analysis) and axes labels.\n",
    "* Save the plotted figures as .pngs."
   ]
  },
  {
   "cell_type": "markdown",
   "metadata": {},
   "source": [
    "## Latitude vs. Temperature Plot"
   ]
  },
  {
   "cell_type": "markdown",
   "metadata": {},
   "source": [
    "Create plots-\n",
    "    Lat versus Temp"
   ]
  },
  {
   "cell_type": "code",
   "execution_count": 19,
   "metadata": {
    "scrolled": true
   },
   "outputs": [
    {
     "data": {
      "image/png": "[encoded data removed]",
      "text/plain": [
       "<Figure size 432x288 with 1 Axes>"
      ]
     },
     "metadata": {
      "needs_background": "light"
     },
     "output_type": "display_data"
    }
   ],
   "source": [
    "plt.scatter(weather_data[\"Latitude\"], weather_data[\"Max Temp\"], marker=\"o\")\n",
    "\n",
    "plt.title(\"Temperature in World Cities\")\n",
    "plt.ylabel(\"Temperature (F)\")\n",
    "plt.xlabel(\"Latitude\")\n",
    "plt.grid=True\n",
    "\n",
    "plt.show()"
   ]
  },
  {
   "cell_type": "markdown",
   "metadata": {},
   "source": [
    "## Latitude vs. Humidity Plot"
   ]
  },
  {
   "cell_type": "code",
   "execution_count": 20,
   "metadata": {},
   "outputs": [
    {
     "data": {
      "image/png": "[encoded data removed]",
      "text/plain": [
       "<Figure size 432x288 with 1 Axes>"
      ]
     },
     "metadata": {
      "needs_background": "light"
     },
     "output_type": "display_data"
    }
   ],
   "source": [
    "plt.scatter(weather_data[\"Latitude\"], weather_data[\"Humidity\"], marker=\"o\")\n",
    "\n",
    "plt.title(\"Humidity in World Cities\")\n",
    "plt.ylabel(\"Humidity\")\n",
    "plt.xlabel(\"Latitude\")\n",
    "plt.grid=True\n",
    "\n",
    "plt.show()"
   ]
  },
  {
   "cell_type": "markdown",
   "metadata": {},
   "source": [
    "## Latitude vs. Cloudiness Plot"
   ]
  },
  {
   "cell_type": "code",
   "execution_count": 21,
   "metadata": {},
   "outputs": [
    {
     "data": {
      "image/png": "[encoded data removed]",
      "text/plain": [
       "<Figure size 432x288 with 1 Axes>"
      ]
     },
     "metadata": {
      "needs_background": "light"
     },
     "output_type": "display_data"
    }
   ],
   "source": [
    "plt.scatter(weather_data[\"Latitude\"], weather_data[\"Cloudiness\"], marker=\"o\")\n",
    "\n",
    "plt.title(\"Cloudiness in World Cities\")\n",
    "plt.ylabel(\"Cloudiness\")\n",
    "plt.xlabel(\"Latitude\")\n",
    "plt.grid=True\n",
    "\n",
    "plt.show()"
   ]
  },
  {
   "cell_type": "markdown",
   "metadata": {},
   "source": [
    "## Latitude vs. Wind Speed Plot"
   ]
  },
  {
   "cell_type": "code",
   "execution_count": 22,
   "metadata": {},
   "outputs": [
    {
     "data": {
      "image/png": "[encoded data removed]",
      "text/plain": [
       "<Figure size 432x288 with 1 Axes>"
      ]
     },
     "metadata": {
      "needs_background": "light"
     },
     "output_type": "display_data"
    }
   ],
   "source": [
    "plt.scatter(weather_data[\"Latitude\"], weather_data[\"Wind Speed\"], marker=\"o\")\n",
    "\n",
    "plt.title(\"Wind Speed in World Cities\")\n",
    "plt.ylabel(\"Wind Speed\")\n",
    "plt.xlabel(\"Latitude\")\n",
    "plt.grid=True\n",
    "\n",
    "plt.show()"
   ]
  },
  {
   "cell_type": "markdown",
   "metadata": {},
   "source": [
    "## Linear Regression"
   ]
  },
  {
   "cell_type": "markdown",
   "metadata": {},
   "source": [
    "-Create northern hemisphere and southern hemisphere dataframe|"
   ]
  },
  {
   "cell_type": "code",
   "execution_count": 33,
   "metadata": {},
   "outputs": [],
   "source": [
    "north_df = weather_df.loc[pd.to_numeric(weather_df[\"Latitude\"]).astype(float) > 0, :]\n",
    "south_df = weather_df.loc[pd.to_numeric(weather_df[\"Latitude\"]).astype(float) < 0, :]"
   ]
  },
  {
   "cell_type": "markdown",
   "metadata": {},
   "source": [
    "####  Northern Hemisphere - Max Temp vs. Latitude Linear Regression"
   ]
  },
  {
   "cell_type": "code",
   "execution_count": 34,
   "metadata": {},
   "outputs": [
    {
     "ename": "NameError",
     "evalue": "name 'slope' is not defined",
     "output_type": "error",
     "traceback": [
      "\u001b[1;31m---------------------------------------------------------------------------\u001b[0m",
      "\u001b[1;31mNameError\u001b[0m                                 Traceback (most recent call last)",
      "Input \u001b[1;32mIn [34]\u001b[0m, in \u001b[0;36m<cell line: 3>\u001b[1;34m()\u001b[0m\n\u001b[0;32m      1\u001b[0m x_values\u001b[38;5;241m=\u001b[39msouth_df[\u001b[38;5;124m\"\u001b[39m\u001b[38;5;124mLatitude\u001b[39m\u001b[38;5;124m\"\u001b[39m]\n\u001b[0;32m      2\u001b[0m y_values\u001b[38;5;241m=\u001b[39msouth_df[\u001b[38;5;124m\"\u001b[39m\u001b[38;5;124mMax Temp\u001b[39m\u001b[38;5;124m\"\u001b[39m]\n\u001b[1;32m----> 3\u001b[0m regress_values\u001b[38;5;241m=\u001b[39m x_values\u001b[38;5;241m*\u001b[39m\u001b[43mslope\u001b[49m\u001b[38;5;241m+\u001b[39mintercept\n\u001b[0;32m      6\u001b[0m (slope, intercept, rvalue, pvalue, stderr) \u001b[38;5;241m=\u001b[39m linregress(x_values, y_values)\n\u001b[0;32m      7\u001b[0m regress_values \u001b[38;5;241m=\u001b[39m x_values \u001b[38;5;241m*\u001b[39m slope \u001b[38;5;241m+\u001b[39m intercept\n",
      "\u001b[1;31mNameError\u001b[0m: name 'slope' is not defined"
     ]
    }
   ],
   "source": [
    "x_values=south_df[\"Latitude\"]\n",
    "y_values=south_df[\"Max Temp\"]\n",
    "regress_values= x_values*slope+intercept\n",
    "\n",
    "\n",
    "(slope, intercept, rvalue, pvalue, stderr) = linregress(x_values, y_values)\n",
    "regress_values = x_values * slope + intercept\n",
    "\n",
    "plt.scatter(x_values,y_values)\n",
    "plt.plot(x_values,regress_values,\"r-\")\n",
    "plt.xlabel(\"Latitude\")\n",
    "plt.ylabel(\"Max Temperature (F)\")\n",
    "plt.title(\"Max Temp vs. Latitude Linear Regression for Southern Hemisphere\")\n",
    "print(f\"r-value: {rvalue}\")\n",
    "print(f\"The data shows there is a positive correlation between latitude and max temperatures\")\n",
    "\n",
    "plt.show()\n",
    "\n"
   ]
  },
  {
   "cell_type": "markdown",
   "metadata": {},
   "source": [
    "####  Southern Hemisphere - Max Temp vs. Latitude Linear Regression"
   ]
  },
  {
   "cell_type": "code",
   "execution_count": 26,
   "metadata": {},
   "outputs": [
    {
     "name": "stdout",
     "output_type": "stream",
     "text": [
      "The r-value is: 0.6082708688906918\n"
     ]
    },
    {
     "data": {
      "image/png": "[encoded data removed]",
      "text/plain": [
       "<Figure size 432x288 with 1 Axes>"
      ]
     },
     "metadata": {
      "needs_background": "light"
     },
     "output_type": "display_data"
    }
   ],
   "source": []
  },
  {
   "cell_type": "markdown",
   "metadata": {},
   "source": [
    "####  Northern Hemisphere - Humidity (%) vs. Latitude Linear Regression"
   ]
  },
  {
   "cell_type": "code",
   "execution_count": 27,
   "metadata": {},
   "outputs": [
    {
     "name": "stdout",
     "output_type": "stream",
     "text": [
      "The r-value is: 0.000543987878808455\n"
     ]
    },
    {
     "data": {
      "image/png": "[encoded data removed]",
      "text/plain": [
       "<Figure size 432x288 with 1 Axes>"
      ]
     },
     "metadata": {
      "needs_background": "light"
     },
     "output_type": "display_data"
    }
   ],
   "source": []
  },
  {
   "cell_type": "markdown",
   "metadata": {},
   "source": [
    "####  Southern Hemisphere - Humidity (%) vs. Latitude Linear Regression"
   ]
  },
  {
   "cell_type": "code",
   "execution_count": 28,
   "metadata": {},
   "outputs": [
    {
     "name": "stdout",
     "output_type": "stream",
     "text": [
      "The r-value is: 0.014985174297345524\n"
     ]
    },
    {
     "data": {
      "image/png": "[encoded data removed]",
      "text/plain": [
       "<Figure size 432x288 with 1 Axes>"
      ]
     },
     "metadata": {
      "needs_background": "light"
     },
     "output_type": "display_data"
    }
   ],
   "source": []
  },
  {
   "cell_type": "markdown",
   "metadata": {},
   "source": [
    "####  Northern Hemisphere - Cloudiness (%) vs. Latitude Linear Regression"
   ]
  },
  {
   "cell_type": "code",
   "execution_count": 29,
   "metadata": {},
   "outputs": [
    {
     "name": "stdout",
     "output_type": "stream",
     "text": [
      "The r-value is: 0.0020898727664228514\n"
     ]
    },
    {
     "data": {
      "image/png": "[encoded data removed]",
      "text/plain": [
       "<Figure size 432x288 with 1 Axes>"
      ]
     },
     "metadata": {
      "needs_background": "light"
     },
     "output_type": "display_data"
    }
   ],
   "source": []
  },
  {
   "cell_type": "markdown",
   "metadata": {},
   "source": [
    "####  Southern Hemisphere - Cloudiness (%) vs. Latitude Linear Regression"
   ]
  },
  {
   "cell_type": "code",
   "execution_count": 30,
   "metadata": {},
   "outputs": [
    {
     "name": "stdout",
     "output_type": "stream",
     "text": [
      "The r-value is: 0.0035263772085582894\n"
     ]
    },
    {
     "data": {
      "image/png": "[encoded data removed]",
      "text/plain": [
       "<Figure size 432x288 with 1 Axes>"
      ]
     },
     "metadata": {
      "needs_background": "light"
     },
     "output_type": "display_data"
    }
   ],
   "source": []
  },
  {
   "cell_type": "markdown",
   "metadata": {},
   "source": [
    "####  Northern Hemisphere - Wind Speed (mph) vs. Latitude Linear Regression"
   ]
  },
  {
   "cell_type": "code",
   "execution_count": 31,
   "metadata": {},
   "outputs": [
    {
     "name": "stdout",
     "output_type": "stream",
     "text": [
      "The r-value is: 0.04019723576144484\n"
     ]
    },
    {
     "data": {
      "image/png": "[encoded data removed]",
      "text/plain": [
       "<Figure size 432x288 with 1 Axes>"
      ]
     },
     "metadata": {
      "needs_background": "light"
     },
     "output_type": "display_data"
    }
   ],
   "source": []
  },
  {
   "cell_type": "markdown",
   "metadata": {},
   "source": [
    "####  Southern Hemisphere - Wind Speed (mph) vs. Latitude Linear Regression"
   ]
  },
  {
   "cell_type": "code",
   "execution_count": 32,
   "metadata": {},
   "outputs": [
    {
     "name": "stdout",
     "output_type": "stream",
     "text": [
      "The r-value is: 0.017128274759839232\n"
     ]
    },
    {
     "data": {
      "image/png": "[encoded data removed]",
      "text/plain": [
       "<Figure size 432x288 with 1 Axes>"
      ]
     },
     "metadata": {
      "needs_background": "light"
     },
     "output_type": "display_data"
    }
   ],
   "source": []
  },
  {
   "cell_type": "code",
   "execution_count": null,
   "metadata": {},
   "outputs": [],
   "source": []
  }
 ],
 "metadata": {
  "anaconda-cloud": {},
  "kernel_info": {
   "name": "python3"
  },
  "kernelspec": {
   "display_name": "Python 3 (ipykernel)",
   "language": "python",
   "name": "python3"
  },
  "language_info": {
   "codemirror_mode": {
    "name": "ipython",
    "version": 3
   },
   "file_extension": ".py",
   "mimetype": "text/x-python",
   "name": "python",
   "nbconvert_exporter": "python",
   "pygments_lexer": "ipython3",
   "version": "3.9.12"
  },
  "latex_envs": {
   "LaTeX_envs_menu_present": true,
   "autoclose": false,
   "autocomplete": true,
   "bibliofile": "biblio.bib",
   "cite_by": "apalike",
   "current_citInitial": 1,
   "eqLabelWithNumbers": true,
   "eqNumInitial": 1,
   "hotkeys": {
    "equation": "Ctrl-E",
    "itemize": "Ctrl-I"
   },
   "labels_anchors": false,
   "latex_user_defs": false,
   "report_style_numbering": false,
   "user_envs_cfg": false
  },
  "nteract": {
   "version": "0.12.3"
  }
 },
 "nbformat": 4,
 "nbformat_minor": 2
}
